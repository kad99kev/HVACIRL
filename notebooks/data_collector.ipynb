{
 "cells": [
  {
   "cell_type": "code",
   "execution_count": null,
   "metadata": {},
   "outputs": [],
   "source": [
    "import sinergym.utils.controllers as controllers\n",
    "from sinergym.utils.wrappers import NormalizeObservation\n",
    "import gymnasium as gym\n",
    "import numpy as np\n",
    "import random\n",
    "import pandas as pd"
   ]
  },
  {
   "cell_type": "code",
   "execution_count": null,
   "metadata": {},
   "outputs": [],
   "source": [
    "def get_controller(env_name):\n",
    "    if \"5zone\" in env_name:\n",
    "        return controllers.RBC5Zone\n",
    "    elif \"data\" in env_name:\n",
    "        return controllers.RBCDatacenter\n",
    "    else:\n",
    "        return controllers.RandomController"
   ]
  },
  {
   "cell_type": "code",
   "execution_count": null,
   "metadata": {},
   "outputs": [],
   "source": [
    "def get_env_info(env_name):\n",
    "    if \"5zone\" in env_name:\n",
    "        # Change range of heating and cooling setpoint to match user comfort.\n",
    "        new_action_space = gym.spaces.Box(\n",
    "            low=np.array([15.0, 23.0], dtype=np.float32),\n",
    "            high=np.array([23.0, 30.0], dtype=np.float32),\n",
    "            shape=(2,),\n",
    "            dtype=np.float32\n",
    "        )\n",
    "        env = gym.make(\n",
    "            env_name, config_params={\"runperiod\": (1, 1, 2022, 31, 12, 2022)}, action_space=new_action_space\n",
    "        )\n",
    "        env = NormalizeObservation(env)\n",
    "        range_low, range_high = new_action_space.low, new_action_space.high\n",
    "        # obs_range = RANGES_5ZONE\n",
    "    elif \"datacenter\" in env_name:\n",
    "        env = gym.make(\n",
    "            env_name, config_params={\"runperiod\": (1, 1, 2022, 31, 12, 2022)}\n",
    "        )\n",
    "        env = NormalizeObservation(env)\n",
    "    heating_range = [\n",
    "        range_low[0],\n",
    "        range_high[0],\n",
    "    ]\n",
    "    cooling_range = [\n",
    "        range_low[1],\n",
    "        range_high[1],\n",
    "    ]\n",
    "    combined_ranges = {\n",
    "        \"Heating_Setpoint_RL\": heating_range,\n",
    "        \"Cooling_Setpoint_RL\": cooling_range,\n",
    "    }\n",
    "    print(\"Ranges:\\n\", combined_ranges)\n",
    "    return env, env.get_wrapper_attr('observation_variables'), env.get_wrapper_attr('action_variables'), combined_ranges"
   ]
  },
  {
   "cell_type": "code",
   "execution_count": null,
   "metadata": {},
   "outputs": [],
   "source": [
    "def normalise(values, v_range, action=False):\n",
    "    # normalization (handle DivisionbyZero Error)\n",
    "    if v_range[1] - v_range[0] == 0:\n",
    "        pass\n",
    "    else:\n",
    "        values = (values - v_range[0]) / (v_range[1] - v_range[0])\n",
    "        if action:\n",
    "            values = 2 * values - 1\n",
    "            return np.clip(values, -1, 1)\n",
    "\n",
    "    values[np.isnan(values)] = 0\n",
    "\n",
    "    return np.clip(values, 0, 1)"
   ]
  },
  {
   "cell_type": "code",
   "execution_count": null,
   "metadata": {},
   "outputs": [],
   "source": [
    "cfg = {\"env_name\": \"Eplus-5zone-hot-continuous-v1\", \"episodes\": 1, \"seed\": 3, \"cntrl\": \"random\"}\n",
    "PATH = \"/home/data\"\n",
    "\n",
    "# TRY NOT TO MODIFY: seeding\n",
    "random.seed(cfg[\"seed\"])\n",
    "np.random.seed(cfg[\"seed\"])\n",
    "env, obs_vars, act_vars, combined_ranges = get_env_info(cfg[\"env_name\"])\n",
    "print(obs_vars)"
   ]
  },
  {
   "cell_type": "code",
   "execution_count": null,
   "metadata": {},
   "outputs": [],
   "source": [
    "# Initialise controller agent.\n",
    "Controller = get_controller(cfg[\"cntrl\"])\n",
    "agent = Controller(env)"
   ]
  },
  {
   "cell_type": "code",
   "execution_count": null,
   "metadata": {},
   "outputs": [],
   "source": [
    "obs_storage = {\n",
    "    k: [] for k in obs_vars\n",
    "}\n",
    "org_obs_storage = {\n",
    "    k: [] for k in obs_vars\n",
    "}\n",
    "act_storage = {k: [] for k in act_vars}\n",
    "len(org_obs_storage), len(obs_storage), len(act_storage)"
   ]
  },
  {
   "cell_type": "code",
   "execution_count": null,
   "metadata": {},
   "outputs": [],
   "source": [
    "for episode in range(1, cfg[\"episodes\"] + 1):\n",
    "    next_obs, _ = env.reset(seed=cfg[\"seed\"])\n",
    "    terminated = False\n",
    "    while not terminated:\n",
    "        unwrapped_obs = env.unwrapped_observation\n",
    "        org_obs_to_store = list(unwrapped_obs.copy())\n",
    "        obs_to_store = list(next_obs.copy())\n",
    "        if cfg[\"cntrl\"] in [\"5zone\", \"data\"]:\n",
    "            action = agent.act(unwrapped_obs)\n",
    "        else:\n",
    "            action = agent.act()\n",
    "        \n",
    "        next_obs, reward, terminated, truncated, info = env.step(action)\n",
    "        \n",
    "        for k, org_o_value in zip(org_obs_storage, org_obs_to_store):\n",
    "            org_obs_storage[k].append(org_o_value)\n",
    "        for k, o_value in zip(obs_storage, obs_to_store):\n",
    "            obs_storage[k].append(o_value)\n",
    "        for k, a_value in zip(act_storage, action):\n",
    "            act_storage[k].append(a_value)"
   ]
  },
  {
   "cell_type": "code",
   "execution_count": null,
   "metadata": {},
   "outputs": [],
   "source": [
    "org_obs_df = pd.DataFrame.from_dict(org_obs_storage)\n",
    "obs_df = pd.DataFrame.from_dict(obs_storage)\n",
    "act_df = pd.DataFrame.from_dict(act_storage)\n",
    "org_obs_df.shape, obs_df.shape, act_df.shape"
   ]
  },
  {
   "cell_type": "code",
   "execution_count": null,
   "metadata": {},
   "outputs": [],
   "source": [
    "org_obs_df.head()"
   ]
  },
  {
   "cell_type": "code",
   "execution_count": null,
   "metadata": {},
   "outputs": [],
   "source": [
    "obs_df.head()"
   ]
  },
  {
   "cell_type": "code",
   "execution_count": null,
   "metadata": {},
   "outputs": [],
   "source": [
    "\n",
    "org_data_df = pd.concat([org_obs_df, act_df], ignore_index=False, axis=1)\n",
    "org_data_df.describe()"
   ]
  },
  {
   "cell_type": "code",
   "execution_count": null,
   "metadata": {},
   "outputs": [],
   "source": [
    "env_name = cfg[\"env_name\"].split(\"-\")[2]\n",
    "org_data_df.to_csv(f\"{PATH}/{env_name}/original_\" + cfg[\"cntrl\"] + \"_data.csv\", index=False)"
   ]
  },
  {
   "cell_type": "code",
   "execution_count": null,
   "metadata": {},
   "outputs": [],
   "source": [
    "act_df.head()"
   ]
  },
  {
   "cell_type": "code",
   "execution_count": null,
   "metadata": {},
   "outputs": [],
   "source": [
    "data_df = pd.concat([obs_df, act_df], ignore_index=False, axis=1)\n",
    "for column in data_df.columns[-2:]:\n",
    "    if column in combined_ranges:\n",
    "        data_df[column] = normalise(data_df[column], combined_ranges[column], action=True)\n"
   ]
  },
  {
   "cell_type": "code",
   "execution_count": null,
   "metadata": {},
   "outputs": [],
   "source": [
    "data_df.describe()"
   ]
  },
  {
   "cell_type": "code",
   "execution_count": null,
   "metadata": {},
   "outputs": [],
   "source": [
    "data_df.head()"
   ]
  },
  {
   "cell_type": "code",
   "execution_count": null,
   "metadata": {},
   "outputs": [],
   "source": [
    "data_df.to_csv(f\"{PATH}/{env_name}/norm_\" + cfg[\"cntrl\"] + \"_data.csv\", index=False)"
   ]
  }
 ],
 "metadata": {
  "kernelspec": {
   "display_name": "Python 3",
   "language": "python",
   "name": "python3"
  },
  "language_info": {
   "codemirror_mode": {
    "name": "ipython",
    "version": 3
   },
   "file_extension": ".py",
   "mimetype": "text/x-python",
   "name": "python",
   "nbconvert_exporter": "python",
   "pygments_lexer": "ipython3",
   "version": "3.10.12"
  }
 },
 "nbformat": 4,
 "nbformat_minor": 2
}
